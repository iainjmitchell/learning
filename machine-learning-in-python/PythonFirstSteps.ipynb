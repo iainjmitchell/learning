{
 "cells": [
  {
   "cell_type": "markdown",
   "metadata": {},
   "source": [
    "# Learning \n",
    "\n",
    "sadasdasdadsad"
   ]
  },
  {
   "cell_type": "code",
   "execution_count": 2,
   "metadata": {},
   "outputs": [
    {
     "name": "stdout",
     "output_type": "stream",
     "text": [
      "Hello Iain\n",
      "\n"
     ]
    }
   ],
   "source": [
    "name = \"Iain\"\n",
    "hello = \"Hello \" + name\n",
    "print(hello, end=\"\\n\\n\")"
   ]
  },
  {
   "cell_type": "code",
   "execution_count": 5,
   "metadata": {},
   "outputs": [
    {
     "name": "stdout",
     "output_type": "stream",
     "text": [
      "number=1 total=1\n",
      "number=2 total=3\n",
      "number=3 total=6\n",
      "number=4 total=10\n",
      "number=5 total=15\n",
      "number=6 total=21\n",
      "number=7 total=28\n",
      "number=8 total=36\n",
      "number=9 total=45\n"
     ]
    }
   ],
   "source": [
    "total = 0\n",
    "for number in range(1, 10):\n",
    "    total = total + number\n",
    "    print(\"number={0} total={1}\".format(number, total))"
   ]
  },
  {
   "cell_type": "code",
   "execution_count": null,
   "metadata": {},
   "outputs": [],
   "source": []
  }
 ],
 "metadata": {
  "kernelspec": {
   "display_name": "Python 3",
   "language": "python",
   "name": "python3"
  },
  "language_info": {
   "codemirror_mode": {
    "name": "ipython",
    "version": 3
   },
   "file_extension": ".py",
   "mimetype": "text/x-python",
   "name": "python",
   "nbconvert_exporter": "python",
   "pygments_lexer": "ipython3",
   "version": "3.6.3"
  }
 },
 "nbformat": 4,
 "nbformat_minor": 2
}
